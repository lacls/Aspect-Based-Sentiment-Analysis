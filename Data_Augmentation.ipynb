{
  "nbformat": 4,
  "nbformat_minor": 0,
  "metadata": {
    "colab": {
      "name": "Data Augmentation.ipynb",
      "provenance": [],
      "collapsed_sections": [
        "Md-C8R7ce_sm",
        "OAiIQ70HDrk4",
        "w_LLaMpbA3B6",
        "GZOqh1iuDx5Z",
        "1F2PJhaHFXCL",
        "FlnQwz_UGsaZ",
        "_vwyeh2M9h2j",
        "6AJZUNdc9je5",
        "cx3izrZPQFVI"
      ],
      "machine_shape": "hm",
      "mount_file_id": "https://gist.github.com/lacls/95d5146d8faa4b47b43fb8c3e9d3e684#file-data-augmentation-ipynb",
      "authorship_tag": "ABX9TyNKKZ/OaX1gnj1hL/s6YWWN",
      "include_colab_link": true
    },
    "kernelspec": {
      "name": "python3",
      "display_name": "Python 3"
    },
    "widgets": {
      "application/vnd.jupyter.widget-state+json": {
        "b52728ee6d9243db8bb5c99882c89ccb": {
          "model_module": "@jupyter-widgets/controls",
          "model_name": "HBoxModel",
          "state": {
            "_view_name": "HBoxView",
            "_dom_classes": [],
            "_model_name": "HBoxModel",
            "_view_module": "@jupyter-widgets/controls",
            "_model_module_version": "1.5.0",
            "_view_count": null,
            "_view_module_version": "1.5.0",
            "box_style": "",
            "layout": "IPY_MODEL_922e252121c540e49b9e6326f00191df",
            "_model_module": "@jupyter-widgets/controls",
            "children": [
              "IPY_MODEL_08a480daffaa42b3ba3dc3b065236fa5",
              "IPY_MODEL_d202642f2a794198bc36a24964da6acc"
            ]
          }
        },
        "922e252121c540e49b9e6326f00191df": {
          "model_module": "@jupyter-widgets/base",
          "model_name": "LayoutModel",
          "state": {
            "_view_name": "LayoutView",
            "grid_template_rows": null,
            "right": null,
            "justify_content": null,
            "_view_module": "@jupyter-widgets/base",
            "overflow": null,
            "_model_module_version": "1.2.0",
            "_view_count": null,
            "flex_flow": null,
            "width": null,
            "min_width": null,
            "border": null,
            "align_items": null,
            "bottom": null,
            "_model_module": "@jupyter-widgets/base",
            "top": null,
            "grid_column": null,
            "overflow_y": null,
            "overflow_x": null,
            "grid_auto_flow": null,
            "grid_area": null,
            "grid_template_columns": null,
            "flex": null,
            "_model_name": "LayoutModel",
            "justify_items": null,
            "grid_row": null,
            "max_height": null,
            "align_content": null,
            "visibility": null,
            "align_self": null,
            "height": null,
            "min_height": null,
            "padding": null,
            "grid_auto_rows": null,
            "grid_gap": null,
            "max_width": null,
            "order": null,
            "_view_module_version": "1.2.0",
            "grid_template_areas": null,
            "object_position": null,
            "object_fit": null,
            "grid_auto_columns": null,
            "margin": null,
            "display": null,
            "left": null
          }
        },
        "08a480daffaa42b3ba3dc3b065236fa5": {
          "model_module": "@jupyter-widgets/controls",
          "model_name": "FloatProgressModel",
          "state": {
            "_view_name": "ProgressView",
            "style": "IPY_MODEL_4c51e2b229254cd0a8d2435c5c30ae12",
            "_dom_classes": [],
            "description": "Downloading: 100%",
            "_model_name": "FloatProgressModel",
            "bar_style": "success",
            "max": 557,
            "_view_module": "@jupyter-widgets/controls",
            "_model_module_version": "1.5.0",
            "value": 557,
            "_view_count": null,
            "_view_module_version": "1.5.0",
            "orientation": "horizontal",
            "min": 0,
            "description_tooltip": null,
            "_model_module": "@jupyter-widgets/controls",
            "layout": "IPY_MODEL_f06d00d569514917b47dbb1df5493210"
          }
        },
        "d202642f2a794198bc36a24964da6acc": {
          "model_module": "@jupyter-widgets/controls",
          "model_name": "HTMLModel",
          "state": {
            "_view_name": "HTMLView",
            "style": "IPY_MODEL_65ca2a2f13b640ff8820c614a70072c3",
            "_dom_classes": [],
            "description": "",
            "_model_name": "HTMLModel",
            "placeholder": "​",
            "_view_module": "@jupyter-widgets/controls",
            "_model_module_version": "1.5.0",
            "value": " 557/557 [00:00&lt;00:00, 3.63kB/s]",
            "_view_count": null,
            "_view_module_version": "1.5.0",
            "description_tooltip": null,
            "_model_module": "@jupyter-widgets/controls",
            "layout": "IPY_MODEL_b5c241c7b4624aa3995280ecba60b2b6"
          }
        },
        "4c51e2b229254cd0a8d2435c5c30ae12": {
          "model_module": "@jupyter-widgets/controls",
          "model_name": "ProgressStyleModel",
          "state": {
            "_view_name": "StyleView",
            "_model_name": "ProgressStyleModel",
            "description_width": "initial",
            "_view_module": "@jupyter-widgets/base",
            "_model_module_version": "1.5.0",
            "_view_count": null,
            "_view_module_version": "1.2.0",
            "bar_color": null,
            "_model_module": "@jupyter-widgets/controls"
          }
        },
        "f06d00d569514917b47dbb1df5493210": {
          "model_module": "@jupyter-widgets/base",
          "model_name": "LayoutModel",
          "state": {
            "_view_name": "LayoutView",
            "grid_template_rows": null,
            "right": null,
            "justify_content": null,
            "_view_module": "@jupyter-widgets/base",
            "overflow": null,
            "_model_module_version": "1.2.0",
            "_view_count": null,
            "flex_flow": null,
            "width": null,
            "min_width": null,
            "border": null,
            "align_items": null,
            "bottom": null,
            "_model_module": "@jupyter-widgets/base",
            "top": null,
            "grid_column": null,
            "overflow_y": null,
            "overflow_x": null,
            "grid_auto_flow": null,
            "grid_area": null,
            "grid_template_columns": null,
            "flex": null,
            "_model_name": "LayoutModel",
            "justify_items": null,
            "grid_row": null,
            "max_height": null,
            "align_content": null,
            "visibility": null,
            "align_self": null,
            "height": null,
            "min_height": null,
            "padding": null,
            "grid_auto_rows": null,
            "grid_gap": null,
            "max_width": null,
            "order": null,
            "_view_module_version": "1.2.0",
            "grid_template_areas": null,
            "object_position": null,
            "object_fit": null,
            "grid_auto_columns": null,
            "margin": null,
            "display": null,
            "left": null
          }
        },
        "65ca2a2f13b640ff8820c614a70072c3": {
          "model_module": "@jupyter-widgets/controls",
          "model_name": "DescriptionStyleModel",
          "state": {
            "_view_name": "StyleView",
            "_model_name": "DescriptionStyleModel",
            "description_width": "",
            "_view_module": "@jupyter-widgets/base",
            "_model_module_version": "1.5.0",
            "_view_count": null,
            "_view_module_version": "1.2.0",
            "_model_module": "@jupyter-widgets/controls"
          }
        },
        "b5c241c7b4624aa3995280ecba60b2b6": {
          "model_module": "@jupyter-widgets/base",
          "model_name": "LayoutModel",
          "state": {
            "_view_name": "LayoutView",
            "grid_template_rows": null,
            "right": null,
            "justify_content": null,
            "_view_module": "@jupyter-widgets/base",
            "overflow": null,
            "_model_module_version": "1.2.0",
            "_view_count": null,
            "flex_flow": null,
            "width": null,
            "min_width": null,
            "border": null,
            "align_items": null,
            "bottom": null,
            "_model_module": "@jupyter-widgets/base",
            "top": null,
            "grid_column": null,
            "overflow_y": null,
            "overflow_x": null,
            "grid_auto_flow": null,
            "grid_area": null,
            "grid_template_columns": null,
            "flex": null,
            "_model_name": "LayoutModel",
            "justify_items": null,
            "grid_row": null,
            "max_height": null,
            "align_content": null,
            "visibility": null,
            "align_self": null,
            "height": null,
            "min_height": null,
            "padding": null,
            "grid_auto_rows": null,
            "grid_gap": null,
            "max_width": null,
            "order": null,
            "_view_module_version": "1.2.0",
            "grid_template_areas": null,
            "object_position": null,
            "object_fit": null,
            "grid_auto_columns": null,
            "margin": null,
            "display": null,
            "left": null
          }
        },
        "94244f2d1faa4b66b510cc163ce0d9d2": {
          "model_module": "@jupyter-widgets/controls",
          "model_name": "HBoxModel",
          "state": {
            "_view_name": "HBoxView",
            "_dom_classes": [],
            "_model_name": "HBoxModel",
            "_view_module": "@jupyter-widgets/controls",
            "_model_module_version": "1.5.0",
            "_view_count": null,
            "_view_module_version": "1.5.0",
            "box_style": "",
            "layout": "IPY_MODEL_6c65992192ff471d8a731e33a61a6853",
            "_model_module": "@jupyter-widgets/controls",
            "children": [
              "IPY_MODEL_8fccaa272db94e9091da08fe0a137b3e",
              "IPY_MODEL_e7d2cd93afef4459896d801515341e3c"
            ]
          }
        },
        "6c65992192ff471d8a731e33a61a6853": {
          "model_module": "@jupyter-widgets/base",
          "model_name": "LayoutModel",
          "state": {
            "_view_name": "LayoutView",
            "grid_template_rows": null,
            "right": null,
            "justify_content": null,
            "_view_module": "@jupyter-widgets/base",
            "overflow": null,
            "_model_module_version": "1.2.0",
            "_view_count": null,
            "flex_flow": null,
            "width": null,
            "min_width": null,
            "border": null,
            "align_items": null,
            "bottom": null,
            "_model_module": "@jupyter-widgets/base",
            "top": null,
            "grid_column": null,
            "overflow_y": null,
            "overflow_x": null,
            "grid_auto_flow": null,
            "grid_area": null,
            "grid_template_columns": null,
            "flex": null,
            "_model_name": "LayoutModel",
            "justify_items": null,
            "grid_row": null,
            "max_height": null,
            "align_content": null,
            "visibility": null,
            "align_self": null,
            "height": null,
            "min_height": null,
            "padding": null,
            "grid_auto_rows": null,
            "grid_gap": null,
            "max_width": null,
            "order": null,
            "_view_module_version": "1.2.0",
            "grid_template_areas": null,
            "object_position": null,
            "object_fit": null,
            "grid_auto_columns": null,
            "margin": null,
            "display": null,
            "left": null
          }
        },
        "8fccaa272db94e9091da08fe0a137b3e": {
          "model_module": "@jupyter-widgets/controls",
          "model_name": "FloatProgressModel",
          "state": {
            "_view_name": "ProgressView",
            "style": "IPY_MODEL_77bb178117a3492e8b0d0e9ea392e7eb",
            "_dom_classes": [],
            "description": "Downloading: 100%",
            "_model_name": "FloatProgressModel",
            "bar_style": "success",
            "max": 895321,
            "_view_module": "@jupyter-widgets/controls",
            "_model_module_version": "1.5.0",
            "value": 895321,
            "_view_count": null,
            "_view_module_version": "1.5.0",
            "orientation": "horizontal",
            "min": 0,
            "description_tooltip": null,
            "_model_module": "@jupyter-widgets/controls",
            "layout": "IPY_MODEL_226f860653fe4d7fb8393a17d48e37e2"
          }
        },
        "e7d2cd93afef4459896d801515341e3c": {
          "model_module": "@jupyter-widgets/controls",
          "model_name": "HTMLModel",
          "state": {
            "_view_name": "HTMLView",
            "style": "IPY_MODEL_5013efeed7e0488fbf761652c8597c34",
            "_dom_classes": [],
            "description": "",
            "_model_name": "HTMLModel",
            "placeholder": "​",
            "_view_module": "@jupyter-widgets/controls",
            "_model_module_version": "1.5.0",
            "value": " 895k/895k [00:00&lt;00:00, 2.16MB/s]",
            "_view_count": null,
            "_view_module_version": "1.5.0",
            "description_tooltip": null,
            "_model_module": "@jupyter-widgets/controls",
            "layout": "IPY_MODEL_fb7241904da946f9833dba84e19ef749"
          }
        },
        "77bb178117a3492e8b0d0e9ea392e7eb": {
          "model_module": "@jupyter-widgets/controls",
          "model_name": "ProgressStyleModel",
          "state": {
            "_view_name": "StyleView",
            "_model_name": "ProgressStyleModel",
            "description_width": "initial",
            "_view_module": "@jupyter-widgets/base",
            "_model_module_version": "1.5.0",
            "_view_count": null,
            "_view_module_version": "1.2.0",
            "bar_color": null,
            "_model_module": "@jupyter-widgets/controls"
          }
        },
        "226f860653fe4d7fb8393a17d48e37e2": {
          "model_module": "@jupyter-widgets/base",
          "model_name": "LayoutModel",
          "state": {
            "_view_name": "LayoutView",
            "grid_template_rows": null,
            "right": null,
            "justify_content": null,
            "_view_module": "@jupyter-widgets/base",
            "overflow": null,
            "_model_module_version": "1.2.0",
            "_view_count": null,
            "flex_flow": null,
            "width": null,
            "min_width": null,
            "border": null,
            "align_items": null,
            "bottom": null,
            "_model_module": "@jupyter-widgets/base",
            "top": null,
            "grid_column": null,
            "overflow_y": null,
            "overflow_x": null,
            "grid_auto_flow": null,
            "grid_area": null,
            "grid_template_columns": null,
            "flex": null,
            "_model_name": "LayoutModel",
            "justify_items": null,
            "grid_row": null,
            "max_height": null,
            "align_content": null,
            "visibility": null,
            "align_self": null,
            "height": null,
            "min_height": null,
            "padding": null,
            "grid_auto_rows": null,
            "grid_gap": null,
            "max_width": null,
            "order": null,
            "_view_module_version": "1.2.0",
            "grid_template_areas": null,
            "object_position": null,
            "object_fit": null,
            "grid_auto_columns": null,
            "margin": null,
            "display": null,
            "left": null
          }
        },
        "5013efeed7e0488fbf761652c8597c34": {
          "model_module": "@jupyter-widgets/controls",
          "model_name": "DescriptionStyleModel",
          "state": {
            "_view_name": "StyleView",
            "_model_name": "DescriptionStyleModel",
            "description_width": "",
            "_view_module": "@jupyter-widgets/base",
            "_model_module_version": "1.5.0",
            "_view_count": null,
            "_view_module_version": "1.2.0",
            "_model_module": "@jupyter-widgets/controls"
          }
        },
        "fb7241904da946f9833dba84e19ef749": {
          "model_module": "@jupyter-widgets/base",
          "model_name": "LayoutModel",
          "state": {
            "_view_name": "LayoutView",
            "grid_template_rows": null,
            "right": null,
            "justify_content": null,
            "_view_module": "@jupyter-widgets/base",
            "overflow": null,
            "_model_module_version": "1.2.0",
            "_view_count": null,
            "flex_flow": null,
            "width": null,
            "min_width": null,
            "border": null,
            "align_items": null,
            "bottom": null,
            "_model_module": "@jupyter-widgets/base",
            "top": null,
            "grid_column": null,
            "overflow_y": null,
            "overflow_x": null,
            "grid_auto_flow": null,
            "grid_area": null,
            "grid_template_columns": null,
            "flex": null,
            "_model_name": "LayoutModel",
            "justify_items": null,
            "grid_row": null,
            "max_height": null,
            "align_content": null,
            "visibility": null,
            "align_self": null,
            "height": null,
            "min_height": null,
            "padding": null,
            "grid_auto_rows": null,
            "grid_gap": null,
            "max_width": null,
            "order": null,
            "_view_module_version": "1.2.0",
            "grid_template_areas": null,
            "object_position": null,
            "object_fit": null,
            "grid_auto_columns": null,
            "margin": null,
            "display": null,
            "left": null
          }
        },
        "85e046709c5e412485db5cb2bc6136a4": {
          "model_module": "@jupyter-widgets/controls",
          "model_name": "HBoxModel",
          "state": {
            "_view_name": "HBoxView",
            "_dom_classes": [],
            "_model_name": "HBoxModel",
            "_view_module": "@jupyter-widgets/controls",
            "_model_module_version": "1.5.0",
            "_view_count": null,
            "_view_module_version": "1.5.0",
            "box_style": "",
            "layout": "IPY_MODEL_ff5410ec241747628f65984bdca14c2d",
            "_model_module": "@jupyter-widgets/controls",
            "children": [
              "IPY_MODEL_ae8191ab6eb549099db02e6b268a9466",
              "IPY_MODEL_67d48ba8b19b4922a05862e515735070"
            ]
          }
        },
        "ff5410ec241747628f65984bdca14c2d": {
          "model_module": "@jupyter-widgets/base",
          "model_name": "LayoutModel",
          "state": {
            "_view_name": "LayoutView",
            "grid_template_rows": null,
            "right": null,
            "justify_content": null,
            "_view_module": "@jupyter-widgets/base",
            "overflow": null,
            "_model_module_version": "1.2.0",
            "_view_count": null,
            "flex_flow": null,
            "width": null,
            "min_width": null,
            "border": null,
            "align_items": null,
            "bottom": null,
            "_model_module": "@jupyter-widgets/base",
            "top": null,
            "grid_column": null,
            "overflow_y": null,
            "overflow_x": null,
            "grid_auto_flow": null,
            "grid_area": null,
            "grid_template_columns": null,
            "flex": null,
            "_model_name": "LayoutModel",
            "justify_items": null,
            "grid_row": null,
            "max_height": null,
            "align_content": null,
            "visibility": null,
            "align_self": null,
            "height": null,
            "min_height": null,
            "padding": null,
            "grid_auto_rows": null,
            "grid_gap": null,
            "max_width": null,
            "order": null,
            "_view_module_version": "1.2.0",
            "grid_template_areas": null,
            "object_position": null,
            "object_fit": null,
            "grid_auto_columns": null,
            "margin": null,
            "display": null,
            "left": null
          }
        },
        "ae8191ab6eb549099db02e6b268a9466": {
          "model_module": "@jupyter-widgets/controls",
          "model_name": "FloatProgressModel",
          "state": {
            "_view_name": "ProgressView",
            "style": "IPY_MODEL_73e699cf79504ee9bf3d1f8f3ea7121c",
            "_dom_classes": [],
            "description": "Downloading: 100%",
            "_model_name": "FloatProgressModel",
            "bar_style": "success",
            "max": 1135173,
            "_view_module": "@jupyter-widgets/controls",
            "_model_module_version": "1.5.0",
            "value": 1135173,
            "_view_count": null,
            "_view_module_version": "1.5.0",
            "orientation": "horizontal",
            "min": 0,
            "description_tooltip": null,
            "_model_module": "@jupyter-widgets/controls",
            "layout": "IPY_MODEL_81e784764c2248fdac963a083c12c409"
          }
        },
        "67d48ba8b19b4922a05862e515735070": {
          "model_module": "@jupyter-widgets/controls",
          "model_name": "HTMLModel",
          "state": {
            "_view_name": "HTMLView",
            "style": "IPY_MODEL_6c309451efa643c0b1a3414c90912e26",
            "_dom_classes": [],
            "description": "",
            "_model_name": "HTMLModel",
            "placeholder": "​",
            "_view_module": "@jupyter-widgets/controls",
            "_model_module_version": "1.5.0",
            "value": " 1.14M/1.14M [00:00&lt;00:00, 5.95MB/s]",
            "_view_count": null,
            "_view_module_version": "1.5.0",
            "description_tooltip": null,
            "_model_module": "@jupyter-widgets/controls",
            "layout": "IPY_MODEL_511a1a528c284fffaeeb74bc8ddac94b"
          }
        },
        "73e699cf79504ee9bf3d1f8f3ea7121c": {
          "model_module": "@jupyter-widgets/controls",
          "model_name": "ProgressStyleModel",
          "state": {
            "_view_name": "StyleView",
            "_model_name": "ProgressStyleModel",
            "description_width": "initial",
            "_view_module": "@jupyter-widgets/base",
            "_model_module_version": "1.5.0",
            "_view_count": null,
            "_view_module_version": "1.2.0",
            "bar_color": null,
            "_model_module": "@jupyter-widgets/controls"
          }
        },
        "81e784764c2248fdac963a083c12c409": {
          "model_module": "@jupyter-widgets/base",
          "model_name": "LayoutModel",
          "state": {
            "_view_name": "LayoutView",
            "grid_template_rows": null,
            "right": null,
            "justify_content": null,
            "_view_module": "@jupyter-widgets/base",
            "overflow": null,
            "_model_module_version": "1.2.0",
            "_view_count": null,
            "flex_flow": null,
            "width": null,
            "min_width": null,
            "border": null,
            "align_items": null,
            "bottom": null,
            "_model_module": "@jupyter-widgets/base",
            "top": null,
            "grid_column": null,
            "overflow_y": null,
            "overflow_x": null,
            "grid_auto_flow": null,
            "grid_area": null,
            "grid_template_columns": null,
            "flex": null,
            "_model_name": "LayoutModel",
            "justify_items": null,
            "grid_row": null,
            "max_height": null,
            "align_content": null,
            "visibility": null,
            "align_self": null,
            "height": null,
            "min_height": null,
            "padding": null,
            "grid_auto_rows": null,
            "grid_gap": null,
            "max_width": null,
            "order": null,
            "_view_module_version": "1.2.0",
            "grid_template_areas": null,
            "object_position": null,
            "object_fit": null,
            "grid_auto_columns": null,
            "margin": null,
            "display": null,
            "left": null
          }
        },
        "6c309451efa643c0b1a3414c90912e26": {
          "model_module": "@jupyter-widgets/controls",
          "model_name": "DescriptionStyleModel",
          "state": {
            "_view_name": "StyleView",
            "_model_name": "DescriptionStyleModel",
            "description_width": "",
            "_view_module": "@jupyter-widgets/base",
            "_model_module_version": "1.5.0",
            "_view_count": null,
            "_view_module_version": "1.2.0",
            "_model_module": "@jupyter-widgets/controls"
          }
        },
        "511a1a528c284fffaeeb74bc8ddac94b": {
          "model_module": "@jupyter-widgets/base",
          "model_name": "LayoutModel",
          "state": {
            "_view_name": "LayoutView",
            "grid_template_rows": null,
            "right": null,
            "justify_content": null,
            "_view_module": "@jupyter-widgets/base",
            "overflow": null,
            "_model_module_version": "1.2.0",
            "_view_count": null,
            "flex_flow": null,
            "width": null,
            "min_width": null,
            "border": null,
            "align_items": null,
            "bottom": null,
            "_model_module": "@jupyter-widgets/base",
            "top": null,
            "grid_column": null,
            "overflow_y": null,
            "overflow_x": null,
            "grid_auto_flow": null,
            "grid_area": null,
            "grid_template_columns": null,
            "flex": null,
            "_model_name": "LayoutModel",
            "justify_items": null,
            "grid_row": null,
            "max_height": null,
            "align_content": null,
            "visibility": null,
            "align_self": null,
            "height": null,
            "min_height": null,
            "padding": null,
            "grid_auto_rows": null,
            "grid_gap": null,
            "max_width": null,
            "order": null,
            "_view_module_version": "1.2.0",
            "grid_template_areas": null,
            "object_position": null,
            "object_fit": null,
            "grid_auto_columns": null,
            "margin": null,
            "display": null,
            "left": null
          }
        }
      }
    }
  },
  "cells": [
    {
      "cell_type": "markdown",
      "metadata": {
        "id": "view-in-github",
        "colab_type": "text"
      },
      "source": [
        "<a href=\"https://colab.research.google.com/github/lacls/Aspect-Based-Sentiment-Analysis/blob/master/Data_Augmentation.ipynb\" target=\"_parent\"><img src=\"https://colab.research.google.com/assets/colab-badge.svg\" alt=\"Open In Colab\"/></a>"
      ]
    },
    {
      "cell_type": "markdown",
      "metadata": {
        "id": "JQ5YjPq3WWkM"
      },
      "source": [
        "*Library installation*"
      ]
    },
    {
      "cell_type": "code",
      "metadata": {
        "colab": {
          "base_uri": "https://localhost:8080/"
        },
        "id": "fwi4StAy4xev",
        "outputId": "10182105-afff-4568-f5b2-1e566cbf3c8a"
      },
      "source": [
        "!pip install underthesea\n",
        "!pip install pyvi\n",
        "import numpy as np\n",
        "from numpy import random\n",
        "import random as rn\n",
        "random.seed(12345)\n",
        "import tensorflow as tf\n",
        "np.random.seed(12345)\n",
        "rn.seed(12345)\n",
        "from underthesea import word_tokenize,  pos_tag\n",
        "import os, pickle, re, keras, sklearn, string\n",
        "from pyvi import ViTokenizer, ViPosTagger\n",
        "from transformers import AutoModel, AutoTokenizer\n",
        "from keras.preprocessing.sequence import pad_sequences"
      ],
      "execution_count": null,
      "outputs": [
        {
          "output_type": "stream",
          "text": [
            "Collecting underthesea\n",
            "\u001b[?25l  Downloading https://files.pythonhosted.org/packages/a8/5f/03ab9091b88e7851aa92da33f8eea6f111423cc1194cf1636c63c1fff3d0/underthesea-1.3.1-py3-none-any.whl (7.5MB)\n",
            "\u001b[K     |████████████████████████████████| 7.5MB 7.8MB/s \n",
            "\u001b[?25hCollecting seqeval\n",
            "\u001b[?25l  Downloading https://files.pythonhosted.org/packages/9d/2d/233c79d5b4e5ab1dbf111242299153f3caddddbb691219f363ad55ce783d/seqeval-1.2.2.tar.gz (43kB)\n",
            "\u001b[K     |████████████████████████████████| 51kB 7.5MB/s \n",
            "\u001b[?25hRequirement already satisfied: nltk in /usr/local/lib/python3.7/dist-packages (from underthesea) (3.2.5)\n",
            "Collecting torch<=1.5.1,>=1.1.0\n",
            "\u001b[?25l  Downloading https://files.pythonhosted.org/packages/a4/cf/007b6de316c9f3d4cb315a60c308342cc299e464167f5ebc369e93b5e23a/torch-1.5.1-cp37-cp37m-manylinux1_x86_64.whl (753.2MB)\n",
            "\u001b[K     |████████████████████████████████| 753.2MB 23kB/s \n",
            "\u001b[?25hRequirement already satisfied: tqdm in /usr/local/lib/python3.7/dist-packages (from underthesea) (4.41.1)\n",
            "Requirement already satisfied: PyYAML in /usr/local/lib/python3.7/dist-packages (from underthesea) (3.13)\n",
            "Requirement already satisfied: requests in /usr/local/lib/python3.7/dist-packages (from underthesea) (2.23.0)\n",
            "Collecting transformers<=3.5.1,>=3.5.0\n",
            "\u001b[?25l  Downloading https://files.pythonhosted.org/packages/3a/83/e74092e7f24a08d751aa59b37a9fc572b2e4af3918cb66f7766c3affb1b4/transformers-3.5.1-py3-none-any.whl (1.3MB)\n",
            "\u001b[K     |████████████████████████████████| 1.3MB 38.1MB/s \n",
            "\u001b[?25hRequirement already satisfied: joblib in /usr/local/lib/python3.7/dist-packages (from underthesea) (1.0.1)\n",
            "Requirement already satisfied: Click>=6.0 in /usr/local/lib/python3.7/dist-packages (from underthesea) (7.1.2)\n",
            "Collecting unidecode\n",
            "\u001b[?25l  Downloading https://files.pythonhosted.org/packages/9e/25/723487ca2a52ebcee88a34d7d1f5a4b80b793f179ee0f62d5371938dfa01/Unidecode-1.2.0-py2.py3-none-any.whl (241kB)\n",
            "\u001b[K     |████████████████████████████████| 245kB 50.1MB/s \n",
            "\u001b[?25hRequirement already satisfied: scikit-learn in /usr/local/lib/python3.7/dist-packages (from underthesea) (0.22.2.post1)\n",
            "Collecting python-crfsuite>=0.9.6\n",
            "\u001b[?25l  Downloading https://files.pythonhosted.org/packages/79/47/58f16c46506139f17de4630dbcfb877ce41a6355a1bbf3c443edb9708429/python_crfsuite-0.9.7-cp37-cp37m-manylinux1_x86_64.whl (743kB)\n",
            "\u001b[K     |████████████████████████████████| 747kB 34.4MB/s \n",
            "\u001b[?25hRequirement already satisfied: numpy>=1.14.0 in /usr/local/lib/python3.7/dist-packages (from seqeval->underthesea) (1.19.5)\n",
            "Requirement already satisfied: six in /usr/local/lib/python3.7/dist-packages (from nltk->underthesea) (1.15.0)\n",
            "Requirement already satisfied: future in /usr/local/lib/python3.7/dist-packages (from torch<=1.5.1,>=1.1.0->underthesea) (0.16.0)\n",
            "Requirement already satisfied: chardet<4,>=3.0.2 in /usr/local/lib/python3.7/dist-packages (from requests->underthesea) (3.0.4)\n",
            "Requirement already satisfied: urllib3!=1.25.0,!=1.25.1,<1.26,>=1.21.1 in /usr/local/lib/python3.7/dist-packages (from requests->underthesea) (1.24.3)\n",
            "Requirement already satisfied: certifi>=2017.4.17 in /usr/local/lib/python3.7/dist-packages (from requests->underthesea) (2020.12.5)\n",
            "Requirement already satisfied: idna<3,>=2.5 in /usr/local/lib/python3.7/dist-packages (from requests->underthesea) (2.10)\n",
            "Requirement already satisfied: packaging in /usr/local/lib/python3.7/dist-packages (from transformers<=3.5.1,>=3.5.0->underthesea) (20.9)\n",
            "Collecting sacremoses\n",
            "\u001b[?25l  Downloading https://files.pythonhosted.org/packages/7d/34/09d19aff26edcc8eb2a01bed8e98f13a1537005d31e95233fd48216eed10/sacremoses-0.0.43.tar.gz (883kB)\n",
            "\u001b[K     |████████████████████████████████| 890kB 36.5MB/s \n",
            "\u001b[?25hRequirement already satisfied: protobuf in /usr/local/lib/python3.7/dist-packages (from transformers<=3.5.1,>=3.5.0->underthesea) (3.12.4)\n",
            "Collecting tokenizers==0.9.3\n",
            "\u001b[?25l  Downloading https://files.pythonhosted.org/packages/7b/ac/f5ba028f0f097d855e1541301e946d4672eb0f30b6e25cb2369075f916d2/tokenizers-0.9.3-cp37-cp37m-manylinux1_x86_64.whl (2.9MB)\n",
            "\u001b[K     |████████████████████████████████| 2.9MB 48.3MB/s \n",
            "\u001b[?25hRequirement already satisfied: filelock in /usr/local/lib/python3.7/dist-packages (from transformers<=3.5.1,>=3.5.0->underthesea) (3.0.12)\n",
            "Collecting sentencepiece==0.1.91\n",
            "\u001b[?25l  Downloading https://files.pythonhosted.org/packages/f2/e2/813dff3d72df2f49554204e7e5f73a3dc0f0eb1e3958a4cad3ef3fb278b7/sentencepiece-0.1.91-cp37-cp37m-manylinux1_x86_64.whl (1.1MB)\n",
            "\u001b[K     |████████████████████████████████| 1.1MB 42.8MB/s \n",
            "\u001b[?25hRequirement already satisfied: regex!=2019.12.17 in /usr/local/lib/python3.7/dist-packages (from transformers<=3.5.1,>=3.5.0->underthesea) (2019.12.20)\n",
            "Requirement already satisfied: scipy>=0.17.0 in /usr/local/lib/python3.7/dist-packages (from scikit-learn->underthesea) (1.4.1)\n",
            "Requirement already satisfied: pyparsing>=2.0.2 in /usr/local/lib/python3.7/dist-packages (from packaging->transformers<=3.5.1,>=3.5.0->underthesea) (2.4.7)\n",
            "Requirement already satisfied: setuptools in /usr/local/lib/python3.7/dist-packages (from protobuf->transformers<=3.5.1,>=3.5.0->underthesea) (54.0.0)\n",
            "Building wheels for collected packages: seqeval, sacremoses\n",
            "  Building wheel for seqeval (setup.py) ... \u001b[?25l\u001b[?25hdone\n",
            "  Created wheel for seqeval: filename=seqeval-1.2.2-cp37-none-any.whl size=16172 sha256=6dbe6b0410be0dff867f6ee9f3d855eafc939fc5816b015a24495c584231f34b\n",
            "  Stored in directory: /root/.cache/pip/wheels/52/df/1b/45d75646c37428f7e626214704a0e35bd3cfc32eda37e59e5f\n",
            "  Building wheel for sacremoses (setup.py) ... \u001b[?25l\u001b[?25hdone\n",
            "  Created wheel for sacremoses: filename=sacremoses-0.0.43-cp37-none-any.whl size=893262 sha256=6c783e6ccae978233448f0fe7df79ac71a7fbadbcc31c9eb76d5b95d0f796d43\n",
            "  Stored in directory: /root/.cache/pip/wheels/29/3c/fd/7ce5c3f0666dab31a50123635e6fb5e19ceb42ce38d4e58f45\n",
            "Successfully built seqeval sacremoses\n",
            "\u001b[31mERROR: torchvision 0.9.0+cu101 has requirement torch==1.8.0, but you'll have torch 1.5.1 which is incompatible.\u001b[0m\n",
            "\u001b[31mERROR: torchtext 0.9.0 has requirement torch==1.8.0, but you'll have torch 1.5.1 which is incompatible.\u001b[0m\n",
            "Installing collected packages: seqeval, torch, sacremoses, tokenizers, sentencepiece, transformers, unidecode, python-crfsuite, underthesea\n",
            "  Found existing installation: torch 1.8.0+cu101\n",
            "    Uninstalling torch-1.8.0+cu101:\n",
            "      Successfully uninstalled torch-1.8.0+cu101\n",
            "Successfully installed python-crfsuite-0.9.7 sacremoses-0.0.43 sentencepiece-0.1.91 seqeval-1.2.2 tokenizers-0.9.3 torch-1.5.1 transformers-3.5.1 underthesea-1.3.1 unidecode-1.2.0\n",
            "Collecting pyvi\n",
            "\u001b[?25l  Downloading https://files.pythonhosted.org/packages/10/e1/0e5bc6b5e3327b9385d6e0f1b0a7c0404f28b74eb6db59a778515b30fd9c/pyvi-0.1-py2.py3-none-any.whl (8.5MB)\n",
            "\u001b[K     |████████████████████████████████| 8.5MB 10.7MB/s \n",
            "\u001b[?25hRequirement already satisfied: scikit-learn in /usr/local/lib/python3.7/dist-packages (from pyvi) (0.22.2.post1)\n",
            "Collecting sklearn-crfsuite\n",
            "  Downloading https://files.pythonhosted.org/packages/25/74/5b7befa513482e6dee1f3dd68171a6c9dfc14c0eaa00f885ffeba54fe9b0/sklearn_crfsuite-0.3.6-py2.py3-none-any.whl\n",
            "Requirement already satisfied: scipy>=0.17.0 in /usr/local/lib/python3.7/dist-packages (from scikit-learn->pyvi) (1.4.1)\n",
            "Requirement already satisfied: joblib>=0.11 in /usr/local/lib/python3.7/dist-packages (from scikit-learn->pyvi) (1.0.1)\n",
            "Requirement already satisfied: numpy>=1.11.0 in /usr/local/lib/python3.7/dist-packages (from scikit-learn->pyvi) (1.19.5)\n",
            "Requirement already satisfied: tqdm>=2.0 in /usr/local/lib/python3.7/dist-packages (from sklearn-crfsuite->pyvi) (4.41.1)\n",
            "Requirement already satisfied: python-crfsuite>=0.8.3 in /usr/local/lib/python3.7/dist-packages (from sklearn-crfsuite->pyvi) (0.9.7)\n",
            "Requirement already satisfied: tabulate in /usr/local/lib/python3.7/dist-packages (from sklearn-crfsuite->pyvi) (0.8.9)\n",
            "Requirement already satisfied: six in /usr/local/lib/python3.7/dist-packages (from sklearn-crfsuite->pyvi) (1.15.0)\n",
            "Installing collected packages: sklearn-crfsuite, pyvi\n",
            "Successfully installed pyvi-0.1 sklearn-crfsuite-0.3.6\n"
          ],
          "name": "stdout"
        }
      ]
    },
    {
      "cell_type": "markdown",
      "metadata": {
        "id": "cwSa7wkw_q8d"
      },
      "source": [
        "# Data Configuration"
      ]
    },
    {
      "cell_type": "markdown",
      "metadata": {
        "id": "Md-C8R7ce_sm"
      },
      "source": [
        "## Read file"
      ]
    },
    {
      "cell_type": "code",
      "metadata": {
        "id": "2JFy3qbRfDJF"
      },
      "source": [
        "# Install colab_ssh on google colab\n",
        "!pip install colab_ssh --upgrade\n",
        "\n",
        "from colab_ssh import launch_ssh_cloudflared, init_git_cloudflared\n",
        "launch_ssh_cloudflared(password=\"str\")\n",
        "\n",
        "# Optional: if you want to clone a github repository\n",
        "#init_git_cloudflared(githubRepositoryUrl)"
      ],
      "execution_count": null,
      "outputs": []
    },
    {
      "cell_type": "markdown",
      "metadata": {
        "id": "7UFjVZWN4yFM"
      },
      "source": [
        "## Library Install"
      ]
    },
    {
      "cell_type": "markdown",
      "metadata": {
        "id": "OAiIQ70HDrk4"
      },
      "source": [
        "## AVIVN"
      ]
    },
    {
      "cell_type": "markdown",
      "metadata": {
        "id": "HdWzrk_x7PmS"
      },
      "source": [
        "> Notice: positive is 0, negative is 1, according the webpage"
      ]
    },
    {
      "cell_type": "code",
      "metadata": {
        "id": "mEtbXtHDkpBW"
      },
      "source": [
        "idx_=[]\n",
        "text=[]\n",
        "label=[]\n",
        "import collections\n",
        "##AVIVN\n",
        "\n",
        "with open(\"/content/drive/MyDrive/Thesis/Data/SA_demo/train.txt\",\"r\") as f:\n",
        "    bla=f.readlines()\n",
        "\n",
        "store_text=\"\"\n",
        "idx_=[]\n",
        "text=[]\n",
        "label=[]\n",
        "for value in bla:\n",
        "  value=value.replace(\"\\n\",\"\")\n",
        "  if value:\n",
        "    if \"train\" in value:\n",
        "      if store_text:\n",
        "        text.append(store_text)\n",
        "        store_text=\"\"\n",
        "        if len(text)!=len(label):\n",
        "          print(value)\n",
        "          break\n",
        "      idx_.append(value)\n",
        "    elif collections.Counter(value)['\"']==2:\n",
        "      text.append(value.replace('\"',\"\"))\n",
        "    elif value in [\"0\",\"1\",\"2\"]:\n",
        "      label.append(value)\n",
        "    else:\n",
        "      value=value.replace('\"',\"\")\n",
        "      store_text+=f\"{value} \"\n",
        "\n",
        "data_csv=pd.DataFrame(data={'text':text,'label':label})\n",
        "data_csv.to_csv(\"/content/drive/MyDrive/Thesis/Data/aivivn_train.csv\",index=False)"
      ],
      "execution_count": null,
      "outputs": []
    },
    {
      "cell_type": "code",
      "metadata": {
        "id": "dzJxje5qwbQk"
      },
      "source": [
        "import collections\n",
        "##AVIVN\n",
        "\n",
        "with open(\"/content/drive/MyDrive/Thesis/Data/SA_demo/test.txt\",\"r\") as f:\n",
        "    bla=f.readlines()\n",
        "\n",
        "store_text=\"\"\n",
        "idx_=[]\n",
        "text=[]\n",
        "label=[]\n",
        "for value in bla:\n",
        "  value=value.replace(\"\\n\",\"\")\n",
        "  if value:\n",
        "    if \"test_\" in value:\n",
        "      if store_text:\n",
        "        text.append(store_text)\n",
        "        store_text=\"\"\n",
        "        if len(text)!=len(idx_):\n",
        "          break\n",
        "      idx_.append(value)\n",
        "    elif collections.Counter(value)['\"']==2:\n",
        "      text.append(value.replace('\"',\"\"))\n",
        "    # elif value in [\"0\",\"1\",\"2\"]:\n",
        "    #     label.append(value)\n",
        "    else:\n",
        "      value=value.replace('\"',\"\")\n",
        "      store_text+=f\"{value} \"\n",
        "\n",
        "data_csv=pd.DataFrame(data={'idx_':idx_,'text':text})\n",
        "data_csv.to_csv(\"/content/drive/MyDrive/Thesis/Data/aivivn_test.csv\",index=False)"
      ],
      "execution_count": null,
      "outputs": []
    },
    {
      "cell_type": "markdown",
      "metadata": {
        "id": "w_LLaMpbA3B6"
      },
      "source": [
        "## KSE"
      ]
    },
    {
      "cell_type": "markdown",
      "metadata": {
        "id": "TiU9bphU7plv"
      },
      "source": [
        "> Notice: Neutral is labeled 2, Negative is 0 and Positive is 1"
      ]
    },
    {
      "cell_type": "code",
      "metadata": {
        "id": "QIokZqLLA37U"
      },
      "source": [
        "idx_=[]\n",
        "text=[]\n",
        "label=[]\n",
        "import collections\n",
        "import os\n",
        "sentiment_Value=0\n",
        "for value in os.listdir('/content/drive/MyDrive/Thesis/Data/KSE/train/'):\n",
        "  with open(f\"/content/drive/MyDrive/Thesis/Data/KSE/train/{value}\",\"r\") as f:\n",
        "      data=f.readlines()\n",
        "      if \"_0\" in value:\n",
        "        sentiment_Value=0\n",
        "      elif \"_1\" in value:\n",
        "        sentiment_Value=1\n",
        "      else:\n",
        "        sentiment_Value=2\n",
        "      for h in data:\n",
        "        text.append(h)\n",
        "        label.append(sentiment_Value)\n",
        "\n",
        "data_csv=pd.DataFrame(data={'text':text,'label':label})\n",
        "data_shuffle=data_csv.sample(frac=1).reset_index(drop=True)\n",
        "data_shuffle.to_csv(\"/content/drive/MyDrive/Thesis/Data/kse_train.csv\",index=False)     \n",
        "  \n",
        "idx_=[]\n",
        "text=[]\n",
        "label=[]\n",
        "import collections\n",
        "import os\n",
        "sentiment_Value=0\n",
        "for value in os.listdir('/content/drive/MyDrive/Thesis/Data/KSE/test/'):\n",
        "  with open(f\"/content/drive/MyDrive/Thesis/Data/KSE/test/{value}\",\"r\") as f:\n",
        "      data=f.readlines()\n",
        "      if \"_0\" in value:\n",
        "        sentiment_Value=-1\n",
        "      elif \"_1\" in value:\n",
        "        sentiment_Value=1\n",
        "      else:\n",
        "        sentiment_Value=0\n",
        "      for h in data:\n",
        "        text.append(h)\n",
        "        label.append(sentiment_Value)\n",
        "  \n",
        "data_csv=pd.DataFrame(data={'text':text,'label':label})\n",
        "data_shuffle=data_csv.sample(frac=1).reset_index(drop=True)\n",
        "data_shuffle.to_csv(\"/content/drive/MyDrive/Thesis/Data/kse_test.csv\",index=False)     \n",
        "    "
      ],
      "execution_count": null,
      "outputs": []
    },
    {
      "cell_type": "markdown",
      "metadata": {
        "id": "pMtpiqvRDDmo"
      },
      "source": [
        "## UIT-VSFC"
      ]
    },
    {
      "cell_type": "code",
      "metadata": {
        "id": "dUrlOLUcCL6_"
      },
      "source": [
        "import pandas as pd\n",
        "\n",
        "idx_=[]\n",
        "text=[]\n",
        "label=[]\n",
        "import collections\n",
        "import os\n",
        "with open(f\"/content/drive/MyDrive/Thesis/Data/UIT-VSFC/train/sents.txt\",\"r\") as f:\n",
        "    text=f.read().splitlines()\n",
        "\n",
        "with open(f\"/content/drive/MyDrive/Thesis/Data/UIT-VSFC/train/sentiments.txt\",\"r\") as f:\n",
        "    label=f.read().splitlines()\n",
        "\n",
        "data_csv=pd.DataFrame(data={'text':text,'label':label})\n",
        "data_csv.to_csv(\"/content/drive/MyDrive/Thesis/Data/uit_TOPICS_vsfc_train.csv\",index=False)\n",
        "\n",
        "\n",
        "with open(f\"/content/drive/MyDrive/Thesis/Data/UIT-VSFC/dev/sents.txt\",\"r\") as f:\n",
        "    text=f.read().splitlines()\n",
        "\n",
        "with open(f\"/content/drive/MyDrive/Thesis/Data/UIT-VSFC/dev/sentiments.txt\",\"r\") as f:\n",
        "    label=f.read().splitlines()\n",
        "\n",
        "data_csv=pd.DataFrame(data={'text':text,'label':label})\n",
        "data_csv.to_csv(\"/content/drive/MyDrive/Thesis/Data/uit_TOPICS_vsfc_dev.csv\",index=False)\n",
        "\n",
        "with open(f\"/content/drive/MyDrive/Thesis/Data/UIT-VSFC/test/sents.txt\",\"r\") as f:\n",
        "    text=f.read().splitlines()\n",
        "\n",
        "with open(f\"/content/drive/MyDrive/Thesis/Data/UIT-VSFC/test/sentiments.txt\",\"r\") as f:\n",
        "    label=f.read().splitlines()\n",
        "\n",
        "data_csv=pd.DataFrame(data={'text':text,'label':label})\n",
        "data_csv.to_csv(\"/content/drive/MyDrive/Thesis/Data/uit_TOPICS_vsfc_test.csv\",index=False)"
      ],
      "execution_count": null,
      "outputs": []
    },
    {
      "cell_type": "code",
      "metadata": {
        "colab": {
          "base_uri": "https://localhost:8080/",
          "height": 419
        },
        "id": "cgfgN7s6NvTL",
        "outputId": "994758be-e3fc-4b32-aa51-00ed803ff465"
      },
      "source": [
        "data_csv=pd.read_csv(\"/content/drive/MyDrive/Thesis/Data/uit_TOPICS_vsfc_dev.csv\")\n",
        "data_csv"
      ],
      "execution_count": null,
      "outputs": [
        {
          "output_type": "execute_result",
          "data": {
            "text/html": [
              "<div>\n",
              "<style scoped>\n",
              "    .dataframe tbody tr th:only-of-type {\n",
              "        vertical-align: middle;\n",
              "    }\n",
              "\n",
              "    .dataframe tbody tr th {\n",
              "        vertical-align: top;\n",
              "    }\n",
              "\n",
              "    .dataframe thead th {\n",
              "        text-align: right;\n",
              "    }\n",
              "</style>\n",
              "<table border=\"1\" class=\"dataframe\">\n",
              "  <thead>\n",
              "    <tr style=\"text-align: right;\">\n",
              "      <th></th>\n",
              "      <th>text</th>\n",
              "      <th>label</th>\n",
              "    </tr>\n",
              "  </thead>\n",
              "  <tbody>\n",
              "    <tr>\n",
              "      <th>0</th>\n",
              "      <td>giáo trình chưa cụ thể .</td>\n",
              "      <td>0</td>\n",
              "    </tr>\n",
              "    <tr>\n",
              "      <th>1</th>\n",
              "      <td>giảng buồn ngủ .</td>\n",
              "      <td>0</td>\n",
              "    </tr>\n",
              "    <tr>\n",
              "      <th>2</th>\n",
              "      <td>giáo viên vui tính , tận tâm .</td>\n",
              "      <td>2</td>\n",
              "    </tr>\n",
              "    <tr>\n",
              "      <th>3</th>\n",
              "      <td>giảng viên nên giao bài tập nhiều hơn , chia n...</td>\n",
              "      <td>0</td>\n",
              "    </tr>\n",
              "    <tr>\n",
              "      <th>4</th>\n",
              "      <td>giảng viên cần giảng bài chi tiết hơn , đi sâu...</td>\n",
              "      <td>0</td>\n",
              "    </tr>\n",
              "    <tr>\n",
              "      <th>...</th>\n",
              "      <td>...</td>\n",
              "      <td>...</td>\n",
              "    </tr>\n",
              "    <tr>\n",
              "      <th>1578</th>\n",
              "      <td>hướng dẫn lab mơ hồ .</td>\n",
              "      <td>0</td>\n",
              "    </tr>\n",
              "    <tr>\n",
              "      <th>1579</th>\n",
              "      <td>thầy cho chúng em những bài tập mang tính thực...</td>\n",
              "      <td>2</td>\n",
              "    </tr>\n",
              "    <tr>\n",
              "      <th>1580</th>\n",
              "      <td>thầy không dạy nhiều chủ yếu cho sinh viên tự ...</td>\n",
              "      <td>0</td>\n",
              "    </tr>\n",
              "    <tr>\n",
              "      <th>1581</th>\n",
              "      <td>em muốn đổi tên môn học vì tên môn là lập trìn...</td>\n",
              "      <td>0</td>\n",
              "    </tr>\n",
              "    <tr>\n",
              "      <th>1582</th>\n",
              "      <td>thầy vừa dạy vừa chat hoặc gọi điện thoại thườ...</td>\n",
              "      <td>0</td>\n",
              "    </tr>\n",
              "  </tbody>\n",
              "</table>\n",
              "<p>1583 rows × 2 columns</p>\n",
              "</div>"
            ],
            "text/plain": [
              "                                                   text  label\n",
              "0                              giáo trình chưa cụ thể .      0\n",
              "1                                      giảng buồn ngủ .      0\n",
              "2                        giáo viên vui tính , tận tâm .      2\n",
              "3     giảng viên nên giao bài tập nhiều hơn , chia n...      0\n",
              "4     giảng viên cần giảng bài chi tiết hơn , đi sâu...      0\n",
              "...                                                 ...    ...\n",
              "1578                              hướng dẫn lab mơ hồ .      0\n",
              "1579  thầy cho chúng em những bài tập mang tính thực...      2\n",
              "1580  thầy không dạy nhiều chủ yếu cho sinh viên tự ...      0\n",
              "1581  em muốn đổi tên môn học vì tên môn là lập trìn...      0\n",
              "1582  thầy vừa dạy vừa chat hoặc gọi điện thoại thườ...      0\n",
              "\n",
              "[1583 rows x 2 columns]"
            ]
          },
          "metadata": {
            "tags": []
          },
          "execution_count": 7
        }
      ]
    },
    {
      "cell_type": "markdown",
      "metadata": {
        "id": "GZOqh1iuDx5Z"
      },
      "source": [
        "## VLSP"
      ]
    },
    {
      "cell_type": "code",
      "metadata": {
        "id": "g7D-mBsFDxow"
      },
      "source": [
        "import pandas as pd\n",
        "import numpy as np\n",
        "\n",
        "text=[]\n",
        "sentiment=[]\n",
        "\n",
        "with open(\"/content/drive/MyDrive/Thesis/Data/VLSP 2016/SA2016-training_data/SA-training_positive.txt\",\"r\") as f:\n",
        "    bla=f.read().splitlines() \n",
        "    k=0\n",
        "    for h in bla:\n",
        "      if h!=\"\":\n",
        "        text.append(h)\n",
        "        k+=1\n",
        "    for _ in range(k):\n",
        "      sentiment.append(1)\n",
        "with open(\"/content/drive/MyDrive/Thesis/Data/VLSP 2016/SA2016-training_data/SA-training_neutral.txt\",\"r\") as f:\n",
        "    bla=f.read().splitlines() \n",
        "    k=0\n",
        "    for h in bla:\n",
        "      if h!=\"\":\n",
        "        text.append(h)\n",
        "        k+=1\n",
        "    for _ in range(k):\n",
        "      sentiment.append(-1)\n",
        "with open(\"/content/drive/MyDrive/Thesis/Data/VLSP 2016/SA2016-training_data/SA-training_negative.txt\",\"r\") as f:\n",
        "    bla=f.read().splitlines() \n",
        "    k=0\n",
        "    for h in bla:\n",
        "      if h!=\"\":\n",
        "        text.append(h)\n",
        "        k+=1\n",
        "    for _ in range(k):\n",
        "      sentiment.append(0)\n",
        "\n",
        "\n",
        "\n",
        "data_csv=pd.DataFrame(data={'text':text,'sentiment':sentiment})\n",
        "data_shuffle=data_csv.sample(frac=1).reset_index(drop=True)\n",
        "\n",
        "data_shuffle.to_csv(\"/content/drive/MyDrive/Thesis/Data/vlsp_train.csv\",index=False)"
      ],
      "execution_count": null,
      "outputs": []
    },
    {
      "cell_type": "code",
      "metadata": {
        "id": "V-WaoZGPDtXX"
      },
      "source": [
        "text=[]\n",
        "sentiment=[]\n",
        "with open(\"/content/drive/MyDrive/Thesis/Data/VLSP 2016/SA2016-TestData-Ans/test_raw_ANS.txt\",\"r\") as f:\n",
        "    bla=f.read().splitlines() \n",
        "    for index, value in enumerate(bla):\n",
        "      if index%2==0:\n",
        "        text.append(value)\n",
        "      else:\n",
        "        if value==\"POS\":\n",
        "          sentiment.append(1)\n",
        "        elif value==\"NEU\":\n",
        "          sentiment.append(0)\n",
        "        else:\n",
        "          sentiment.append(-1)\n",
        "\n",
        "data_csv=pd.DataFrame(data={'text':text,'sentiment':sentiment})\n",
        "data_shuffle=data_csv.sample(frac=1).reset_index(drop=True)\n",
        "data_shuffle.to_csv(\"/content/drive/MyDrive/Thesis/Data/vlsp_test.csv\",index=False)"
      ],
      "execution_count": null,
      "outputs": []
    },
    {
      "cell_type": "markdown",
      "metadata": {
        "id": "1F2PJhaHFXCL"
      },
      "source": [
        "## HOTEL"
      ]
    },
    {
      "cell_type": "code",
      "metadata": {
        "id": "zv_8vLPwFpRt"
      },
      "source": [
        "import re\n",
        "import pandas as pd\n",
        "sentiment=[]\n",
        "text=[]\n",
        "datContent = [i for i in open(\"/content/drive/MyDrive/Thesis/Data/data1Wordalltrain.dat\").readlines()]\n",
        "for h in datContent:\n",
        "  string=\"\"\n",
        "  for value in h.split(\" \"):\n",
        "    if \"NEGA\" in value:\n",
        "      sentiment.append(-1)\n",
        "    elif \"POS\" in value:\n",
        "      sentiment.append(1)\n",
        "    elif \"NEU\" in value:\n",
        "      sentiment.append(0)\n",
        "    else:\n",
        "      value_=re.sub(\"[\\/].*$\",\"\",value)\n",
        "      string.join(f'{value_} ')\n",
        "  text.append(string)\n",
        "  if len(sentiment)!=len(text):\n",
        "    break\n",
        "    print(string)\n",
        "\n",
        "data_csv=pd.DataFrame(data={'text':text,'sentiment':sentiment})\n",
        "data_shuffle=data_csv.sample(frac=1).reset_index(drop=True)\n",
        "\n",
        "data_shuffle.to_csv(\"/content/drive/MyDrive/Thesis/Data/hotel.csv\",index=False)"
      ],
      "execution_count": null,
      "outputs": []
    },
    {
      "cell_type": "markdown",
      "metadata": {
        "id": "1sHB2qPD8t6E"
      },
      "source": [
        "# Data Augmentation"
      ]
    },
    {
      "cell_type": "markdown",
      "metadata": {
        "id": "cFud3aI29DQR"
      },
      "source": [
        "### **Word_2Vec replacement**\n",
        "- For each word in a tweet, we query the exter- nal embeddings, and replace them with their knn words to create a new training instance. For ex- ample, consider the tweet “Being late is terrible” with the punctuality label, after searching for knn words for each token, we create a new training in- stance: “Be behind are bad” with the same label\n",
        "\n",
        "- IMPORTANT, This can lead to out-of-context and unnat- urally complex replacements "
      ]
    },
    {
      "cell_type": "markdown",
      "metadata": {
        "id": "FlnQwz_UGsaZ"
      },
      "source": [
        "#### *Clean_doc*"
      ]
    },
    {
      "cell_type": "code",
      "metadata": {
        "id": "n932T0oAFmg3"
      },
      "source": [
        "def normalText(sent):\n",
        "    sent = str(sent).replace('_',' ').replace('/',' trên ')\n",
        "    sent = re.sub('-{2,}','',sent)\n",
        "    sent = re.sub('\\\\s+',' ', sent)\n",
        "    patPrice = r'([0-9]+k?(\\s?-\\s?)[0-9]+\\s?(k|K))|([0-9]+(.|,)?[0-9]+\\s?(triệu|ngàn|trăm|k|K|))|([0-9]+(.[0-9]+)?Ä‘)|([0-9]+k)'\n",
        "    patHagTag = r'#\\s?[aăâbcdđeêghiklmnoôơpqrstuưvxyàằầbcdđèềghìklmnòồờpqrstùừvxỳáắấbcdđéếghíklmnóốớpqrstúứvxýảẳẩbcdđẻểghỉklmnỏổởpqrstủửvxỷạặậbcdđẹệghịklmnọộợpqrstụựvxỵãẵẫbcdđẽễghĩklmnõỗỡpqrstũữvxỹAĂÂBCDĐEÊGHIKLMNOÔƠPQRSTUƯVXYÀẰẦBCDĐÈỀGHÌKLMNÒỒỜPQRSTÙỪVXỲÁẮẤBCDĐÉẾGHÍKLMNÓỐỚPQRSTÚỨVXÝẠẶẬBCDĐẸỆGHỊKLMNỌỘỢPQRSTỤỰVXỴẢẲẨBCDĐẺỂGHỈKLMNỎỔỞPQRSTỦỬVXỶÃẴẪBCDĐẼỄGHĨKLMNÕỖỠPQRSTŨỮVXỸ]+'\n",
        "    patURL = r\"(?:http://|www.)[^\\\"]+\"\n",
        "    sent = re.sub(patURL,'website',sent)\n",
        "    sent = re.sub(patHagTag,' hagtag ',sent)\n",
        "    sent = re.sub(patPrice, ' giá_tiền ', sent)\n",
        "    sent = re.sub('\\.+','.',sent)\n",
        "    sent = re.sub('(hagtag\\\\s+)+',' hagtag ',sent)\n",
        "    sent = re.sub('\\\\s+',' ',sent)\n",
        "    return sent\n",
        "\n",
        "\n",
        "def normalize_elonge_word(sent):\n",
        "    s_new = ''\n",
        "    for word in sent.split(' '):\n",
        "        word_new = ''\n",
        "        for char in word.strip():\n",
        "            if char != word_new[-1]:\n",
        "                word_new += char\n",
        "    s_new += word_new.strip() + ' '\n",
        "    return s_new\n",
        "\n",
        "def tokenizer(text):\n",
        "      token = word_tokenize(text,format=\"text\")\n",
        "      token = token.replace('giá tiền','giá_tiền').replace('Giá tiền','Giá_tiền')\n",
        "      return token\n",
        "\n",
        "def deleteIcon(text):\n",
        "    text = text.lower()\n",
        "    s = ''\n",
        "    pattern = r\"[a-zA-ZaăâbcdđeêghiklmnoôơpqrstuưvxyàằầbcdđèềghìklmnòồờpqrstùừvxỳáắấbcdđéếghíklmnóốớpqrstúứvxýảẳẩbcdđẻểghỉklmnỏổởpqrstủửvxỷạặậbcdđẹệghịklmnọộợpqrstụựvxỵãẵẫbcdđẽễghĩklmnõỗỡpqrstũữvxỹAĂÂBCDĐEÊGHIKLMNOÔƠPQRSTUƯVXYÀẰẦBCDĐÈỀGHÌKLMNÒỒỜPQRSTÙỪVXỲÁẮẤBCDĐÉẾGHÍKLMNÓỐỚPQRSTÚỨVXÝẠẶẬBCDĐẸỆGHỊKLMNỌỘỢPQRSTỤỰVXỴẢẲẨBCDĐẺỂGHỈKLMNỎỔỞPQRSTỦỬVXỶÃẴẪBCDĐẼỄGHĨKLMNÕỖỠPQRSTŨỮVXỸ,._]\"\n",
        "    \n",
        "    for char in text:\n",
        "        if char !=' ':\n",
        "            if len(re.findall(pattern, char)) != 0:\n",
        "                s+=char\n",
        "            elif char == '_':\n",
        "                s+=char\n",
        "        else:\n",
        "            s+=char\n",
        "    s = re.sub('\\\\s+',' ',s)\n",
        "    return s.strip()\n",
        "\n",
        "def normalize_elonge_word(sent):\n",
        "    s_new = ''\n",
        "    for word in sent.split(' '):\n",
        "        word_new = ' '\n",
        "        for char in word.strip():\n",
        "            if char != word_new[-1]:\n",
        "                word_new += char\n",
        "        s_new += word_new.strip() + ' '\n",
        "    return s_new.strip()  \n",
        "\n",
        "def clean_doc(doc,set_work=False):\n",
        "    for punc in string.punctuation:\n",
        "        doc = doc.replace(punc,' '+ punc + ' ')\n",
        "    doc = normalText(doc)\n",
        "    doc = deleteIcon(doc)\n",
        "    if set_work:\n",
        "      doc = tokenizer(doc)\n",
        "    # Lowercase\n",
        "    doc = doc.lower()\n",
        "    # Removing multiple whitespaces\n",
        "    doc = re.sub(r\"\\?\", \" \\? \", doc)\n",
        "    # Remove numbers\n",
        "    doc = re.sub(r\"[0-9]+\", \" num \", doc)\n",
        "    # Split in tokens\n",
        "    # Remove punctuation\n",
        "    for punc in string.punctuation:\n",
        "      if punc not in \"_\":\n",
        "          doc = doc.replace(punc,' ')\n",
        "    doc = re.sub('\\\\s+',' ',doc)\n",
        "    doc = normalize_elonge_word(doc)\n",
        "    return doc"
      ],
      "execution_count": null,
      "outputs": []
    },
    {
      "cell_type": "markdown",
      "metadata": {
        "id": "_vwyeh2M9h2j"
      },
      "source": [
        "#### *Baomoi*"
      ]
    },
    {
      "cell_type": "code",
      "metadata": {
        "colab": {
          "base_uri": "https://localhost:8080/"
        },
        "id": "pwTGqjB6FXJz",
        "outputId": "6202fade-87d3-4383-8b16-c31e8ae18117"
      },
      "source": [
        "print(ViPosTagger.postagging(clean_doc(text[0],True)))\n",
        "print(pos_tag(clean_doc(text[0])))\n",
        "# https://pypi.org/project/pyvi/\n",
        "#model_bao_moi.similar_by_word(\"son\",10)"
      ],
      "execution_count": null,
      "outputs": [
        {
          "output_type": "stream",
          "text": [
            "(['dung', 'dc', 'sp', 'tot', 'cam', 'on_shop', 'đóng_gói', 'sản_phẩm', 'rất', 'đẹp', 'và', 'chắc_chắn', 'chất_lượng', 'sản_phẩm', 'tuyệt_vời'], ['N', 'V', 'N', 'V', 'N', 'N', 'N', 'N', 'R', 'A', 'C', 'A', 'N', 'N', 'A'])\n",
            "[('dung', 'N'), ('dc', 'V'), ('sp', 'N'), ('tot', 'V'), ('cam', 'N'), ('on shop', 'N'), ('đóng gói', 'V'), ('sản phẩm', 'N'), ('rất', 'R'), ('đẹp', 'A'), ('và', 'C'), ('chắc chắn', 'A'), ('chất lượng', 'N'), ('sản phẩm', 'N'), ('tuyệt vời', 'A')]\n"
          ],
          "name": "stdout"
        }
      ]
    },
    {
      "cell_type": "code",
      "metadata": {
        "colab": {
          "base_uri": "https://localhost:8080/"
        },
        "id": "-USQxrKMOeLT",
        "outputId": "19bd920f-25b4-467d-e7b8-2e66db63aaf7"
      },
      "source": [
        "model_bao_moi.similar_by_word(\"ảnh\",10)"
      ],
      "execution_count": null,
      "outputs": [
        {
          "output_type": "execute_result",
          "data": {
            "text/plain": [
              "[('hình', 0.7319726943969727),\n",
              " ('hình_hài_hước', 0.6114365458488464),\n",
              " ('hình_ảnh', 0.5983822345733643),\n",
              " ('screenshot', 0.5368694067001343),\n",
              " ('Ảnh_cực_Đã', 0.5335326194763184),\n",
              " ('bộ_ảnh', 0.5332967638969421),\n",
              " ('tiệc_cực_vui', 0.5284527540206909),\n",
              " ('loobook', 0.5211629867553711),\n",
              " ('choẹt', 0.5155001282691956),\n",
              " ('hình_như_thế', 0.5113717317581177)]"
            ]
          },
          "metadata": {
            "tags": []
          },
          "execution_count": 67
        }
      ]
    },
    {
      "cell_type": "code",
      "metadata": {
        "id": "DHXuqWirBa9k"
      },
      "source": [
        "import gensim\n",
        "model_bao_moi = gensim.models.KeyedVectors.load_word2vec_format('/content/drive/MyDrive/NLP@Research/Aspect/Embedding/baomoi.bin', binary=True)\n"
      ],
      "execution_count": null,
      "outputs": []
    },
    {
      "cell_type": "markdown",
      "metadata": {
        "id": "6AJZUNdc9je5"
      },
      "source": [
        "#### *fastText*"
      ]
    },
    {
      "cell_type": "code",
      "metadata": {
        "id": "tjoZ-k9dQA1V",
        "colab": {
          "base_uri": "https://localhost:8080/"
        },
        "outputId": "005f9ee0-643c-4378-eee0-5eacc069d130"
      },
      "source": [
        "from gensim.models.wrappers import FastText\n",
        "model_ftext = FastText.load_fasttext_format('/content/drive/MyDrive/NLP@Research/Aspect/Embedding/cc.vi.300.bin')\n",
        "model_ftext.similar_by_word(\"ai_vậy\",10)"
      ],
      "execution_count": null,
      "outputs": [
        {
          "output_type": "stream",
          "text": [
            "Warning : `load_model` does not return WordVectorModel or SupervisedModel any more, but a `FastText` object which is very similar.\n"
          ],
          "name": "stderr"
        }
      ]
    },
    {
      "cell_type": "markdown",
      "metadata": {
        "id": "cx3izrZPQFVI"
      },
      "source": [
        "### **TF-IDF**\n",
        "- This augmentation method was proposed by Xie et al. in the Unsupervised Data Augmentation paper. The basic idea is that words that have low TF-IDF scores are uninformative and thus can be replaced without affecting the ground-truth labels of the sentence."
      ]
    },
    {
      "cell_type": "code",
      "metadata": {
        "id": "-bfAvkC7QIoP"
      },
      "source": [
        ""
      ],
      "execution_count": null,
      "outputs": []
    },
    {
      "cell_type": "markdown",
      "metadata": {
        "id": "3nnHl9CRQe9-"
      },
      "source": [
        "### **Bert-base**"
      ]
    },
    {
      "cell_type": "markdown",
      "metadata": {
        "id": "MdoLnKPXQjIO"
      },
      "source": [
        "- Transformer models such as BERT, ROBERTA, and ALBERT have been trained on a large amount of text using a pretext task called “Masked Language Modeling” where the model has to predict masked words based on the context."
      ]
    },
    {
      "cell_type": "code",
      "metadata": {
        "colab": {
          "base_uri": "https://localhost:8080/",
          "height": 181,
          "referenced_widgets": [
            "b52728ee6d9243db8bb5c99882c89ccb",
            "922e252121c540e49b9e6326f00191df",
            "08a480daffaa42b3ba3dc3b065236fa5",
            "d202642f2a794198bc36a24964da6acc",
            "4c51e2b229254cd0a8d2435c5c30ae12",
            "f06d00d569514917b47dbb1df5493210",
            "65ca2a2f13b640ff8820c614a70072c3",
            "b5c241c7b4624aa3995280ecba60b2b6",
            "94244f2d1faa4b66b510cc163ce0d9d2",
            "6c65992192ff471d8a731e33a61a6853",
            "8fccaa272db94e9091da08fe0a137b3e",
            "e7d2cd93afef4459896d801515341e3c",
            "77bb178117a3492e8b0d0e9ea392e7eb",
            "226f860653fe4d7fb8393a17d48e37e2",
            "5013efeed7e0488fbf761652c8597c34",
            "fb7241904da946f9833dba84e19ef749",
            "85e046709c5e412485db5cb2bc6136a4",
            "ff5410ec241747628f65984bdca14c2d",
            "ae8191ab6eb549099db02e6b268a9466",
            "67d48ba8b19b4922a05862e515735070",
            "73e699cf79504ee9bf3d1f8f3ea7121c",
            "81e784764c2248fdac963a083c12c409",
            "6c309451efa643c0b1a3414c90912e26",
            "511a1a528c284fffaeeb74bc8ddac94b"
          ]
        },
        "id": "McZiA-rmQgf9",
        "outputId": "18bde71f-693e-4e9e-a5a5-5abfcff3ca68"
      },
      "source": [
        "tokenizer = AutoTokenizer.from_pretrained(\"vinai/phobert-base\", use_fast=False)"
      ],
      "execution_count": null,
      "outputs": [
        {
          "output_type": "display_data",
          "data": {
            "application/vnd.jupyter.widget-view+json": {
              "model_id": "b52728ee6d9243db8bb5c99882c89ccb",
              "version_minor": 0,
              "version_major": 2
            },
            "text/plain": [
              "HBox(children=(FloatProgress(value=0.0, description='Downloading', max=557.0, style=ProgressStyle(description_…"
            ]
          },
          "metadata": {
            "tags": []
          }
        },
        {
          "output_type": "stream",
          "text": [
            "\n"
          ],
          "name": "stdout"
        },
        {
          "output_type": "display_data",
          "data": {
            "application/vnd.jupyter.widget-view+json": {
              "model_id": "94244f2d1faa4b66b510cc163ce0d9d2",
              "version_minor": 0,
              "version_major": 2
            },
            "text/plain": [
              "HBox(children=(FloatProgress(value=0.0, description='Downloading', max=895321.0, style=ProgressStyle(descripti…"
            ]
          },
          "metadata": {
            "tags": []
          }
        },
        {
          "output_type": "stream",
          "text": [
            "\n"
          ],
          "name": "stdout"
        },
        {
          "output_type": "display_data",
          "data": {
            "application/vnd.jupyter.widget-view+json": {
              "model_id": "85e046709c5e412485db5cb2bc6136a4",
              "version_minor": 0,
              "version_major": 2
            },
            "text/plain": [
              "HBox(children=(FloatProgress(value=0.0, description='Downloading', max=1135173.0, style=ProgressStyle(descript…"
            ]
          },
          "metadata": {
            "tags": []
          }
        },
        {
          "output_type": "stream",
          "text": [
            "Special tokens have been added in the vocabulary, make sure the associated word embedding are fine-tuned or trained.\n"
          ],
          "name": "stderr"
        },
        {
          "output_type": "stream",
          "text": [
            "\n"
          ],
          "name": "stdout"
        }
      ]
    },
    {
      "cell_type": "code",
      "metadata": {
        "colab": {
          "base_uri": "https://localhost:8080/"
        },
        "id": "l_ILIJZeQlkN",
        "outputId": "63c20122-4105-4600-93eb-55a7e5726d0b"
      },
      "source": [
        "from transformers import pipeline, AutoModelWithLMHead, AutoTokenizer\n",
        "\n",
        "tokenizer_ = AutoTokenizer.from_pretrained(\"vinai/phobert-base\")\n",
        "model_ = AutoModelWithLMHead.from_pretrained(\"vinai/phobert-base\")\n",
        "nlp = pipeline(\"fill-mask\", model=model_,tokenizer=tokenizer_)\n",
        "nlp('Đồ ăn <mask>, mình thích lắm ')"
      ],
      "execution_count": null,
      "outputs": [
        {
          "output_type": "stream",
          "text": [
            "Special tokens have been added in the vocabulary, make sure the associated word embedding are fine-tuned or trained.\n",
            "/usr/local/lib/python3.7/dist-packages/transformers/modeling_auto.py:837: FutureWarning: The class `AutoModelWithLMHead` is deprecated and will be removed in a future version. Please use `AutoModelForCausalLM` for causal language models, `AutoModelForMaskedLM` for masked language models and `AutoModelForSeq2SeqLM` for encoder-decoder models.\n",
            "  FutureWarning,\n"
          ],
          "name": "stderr"
        },
        {
          "output_type": "execute_result",
          "data": {
            "text/plain": [
              "[{'score': 0.07473760843276978,\n",
              "  'sequence': '<s> Đồ ăn Việt_Nam, mình thích lắm </s>',\n",
              "  'token': 56,\n",
              "  'token_str': 'Việt_Nam'},\n",
              " {'score': 0.06641945987939835,\n",
              "  'sequence': '<s> Đồ ăn vặt, mình thích lắm </s>',\n",
              "  'token': 5296,\n",
              "  'token_str': 'vặt'},\n",
              " {'score': 0.05321295186877251,\n",
              "  'sequence': '<s> Đồ ăn Nhật, mình thích lắm </s>',\n",
              "  'token': 1219,\n",
              "  'token_str': 'Nhật'},\n",
              " {'score': 0.051812101155519485,\n",
              "  'sequence': '<s> Đồ ăn Hàn_Quốc, mình thích lắm </s>',\n",
              "  'token': 536,\n",
              "  'token_str': 'Hàn_Quốc'},\n",
              " {'score': 0.0393323078751564,\n",
              "  'sequence': '<s> Đồ ăn nhẹ, mình thích lắm </s>',\n",
              "  'token': 1061,\n",
              "  'token_str': 'nhẹ'}]"
            ]
          },
          "metadata": {
            "tags": []
          },
          "execution_count": 83
        }
      ]
    },
    {
      "cell_type": "code",
      "metadata": {
        "colab": {
          "base_uri": "https://localhost:8080/"
        },
        "id": "IITnmC3OTs_B",
        "outputId": "a01ea6d2-d068-40a6-925f-61e3acb9f808"
      },
      "source": [
        "import torch\n",
        "sequence = f\" Đồ ăn {tokenizer.mask_token} thích lắm.\"\n",
        "\n",
        "input = tokenizer.encode(sequence, return_tensors=\"pt\")\n",
        "mask_token_index = torch.where(input == tokenizer.mask_token_id)[1]\n",
        "\n",
        "token_logits = model_(input)[0]\n",
        "mask_token_logits = token_logits[0, mask_token_index, :]\n",
        "\n",
        "top_5_tokens = torch.topk(mask_token_logits, 5, dim=1).indices[0].tolist()\n",
        "\n",
        "for token in top_5_tokens:\n",
        "    print(sequence.replace(tokenizer.mask_token, tokenizer.decode([token])))"
      ],
      "execution_count": null,
      "outputs": [
        {
          "output_type": "stream",
          "text": [
            " Đồ ăn yêu thích lắm.\n",
            " Đồ ăn bạn thích lắm.\n",
            " Đồ ăn tôi thích lắm.\n",
            " Đồ ăn không thích lắm.\n",
            " Đồ ăn Ý thích lắm.\n"
          ],
          "name": "stdout"
        }
      ]
    },
    {
      "cell_type": "code",
      "metadata": {
        "id": "ePVDRj1HReiV"
      },
      "source": [
        "from transformers import AutoModelWithLMHead, AutoTokenizer\n",
        "import torch\n",
        "\n",
        "\n",
        "\n",
        "sequence = f\"Distilled models are smaller than the models they mimic. Using them instead of the large versions would help {tokenizer.mask_token} our carbon footprint.\"\n",
        "\n",
        "input = tokenizer.encode(sequence, return_tensors=\"pt\")\n",
        "mask_token_index = torch.where(input == tokenizer.mask_token_id)[1]\n",
        "\n",
        "token_logits = model(input)[0]\n",
        "mask_token_logits = token_logits[0, mask_token_index, :]\n",
        "\n",
        "top_5_tokens = torch.topk(mask_token_logits, 5, dim=1).indices[0].tolist()\n",
        "\n",
        "for token in top_5_tokens:\n",
        "    print(sequence.replace(tokenizer.mask_token, tokenizer.decode([token])))"
      ],
      "execution_count": null,
      "outputs": []
    }
  ]
}